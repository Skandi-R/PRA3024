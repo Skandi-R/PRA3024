{
  "nbformat": 4,
  "nbformat_minor": 0,
  "metadata": {
    "colab": {
      "provenance": [],
      "authorship_tag": "ABX9TyOi056kyV8W7mi3cVIbvt/g"
    },
    "kernelspec": {
      "name": "python3",
      "display_name": "Python 3"
    },
    "language_info": {
      "name": "python"
    }
  },
  "cells": [
    {
      "cell_type": "markdown",
      "source": [
        "Notebook for information regarding Principle Component Analysis"
      ],
      "metadata": {
        "id": "MowtlwKjBqIm"
      }
    },
    {
      "cell_type": "markdown",
      "source": [
        "Once there is data to be analused, it can be run through python to check how many components are needed for good accuracy. This can then be the factor that determines how many components are used in the end. An arbitrary accuracy number can be selected, 85% for example or more and then we can see how this affects the expected return/ realized return of a sample portfolio"
      ],
      "metadata": {
        "id": "-ClQWcf-E619"
      }
    },
    {
      "cell_type": "code",
      "execution_count": 5,
      "metadata": {
        "id": "t45DpiLfBm3w"
      },
      "outputs": [],
      "source": [
        "from sklearn.decomposition import PCA\n",
        "pca = PCA(n_components=0.95) #0.95 refers to how many components needed for 95% accuracy\n",
        "\n",
        "#pca.n_components_  This part would then Show how many components needed "
      ]
    }
  ]
}